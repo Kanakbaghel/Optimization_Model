{
  "cells": [
    {
      "cell_type": "markdown",
      "source": [
        "------------\n",
        "<font size=5 color=darkolivegreen>OPTIMIZATION MODEL\n",
        "\n",
        "---------------------"
      ],
      "metadata": {
        "id": "RcMs2irjPEg7"
      },
      "id": "RcMs2irjPEg7"
    },
    {
      "cell_type": "code",
      "source": [
        "# Import Libraries\n",
        "import numpy as np\n",
        "import pandas as pd\n",
        "import matplotlib.pyplot as plt\n",
        "import seaborn as sns\n",
        "import pulp\n",
        "\n",
        "from scipy.stats import pearsonr, chi2_contingency\n",
        "\n",
        "import warnings\n",
        "# Suppress all warnings\n",
        "warnings.filterwarnings(\"ignore\")"
      ],
      "metadata": {
        "id": "ESnHs2ntPDsM"
      },
      "id": "ESnHs2ntPDsM",
      "execution_count": 1,
      "outputs": []
    },
    {
      "cell_type": "code",
      "source": [
        "df = pd.read_csv('/content/supply_chain_data.csv')\n",
        "df.head()"
      ],
      "metadata": {
        "colab": {
          "base_uri": "https://localhost:8080/",
          "height": 394
        },
        "id": "M3xY4MBxP1Bg",
        "outputId": "fd69e899-4a9b-48d7-af1d-6bbedf138903"
      },
      "id": "M3xY4MBxP1Bg",
      "execution_count": 2,
      "outputs": [
        {
          "output_type": "execute_result",
          "data": {
            "text/plain": [
              "  Product type   SKU      Price  Availability  Number of products sold  \\\n",
              "0     haircare  SKU0  69.808006            55                      802   \n",
              "1     skincare  SKU1  14.843523            95                      736   \n",
              "2     haircare  SKU2  11.319683            34                        8   \n",
              "3     skincare  SKU3  61.163343            68                       83   \n",
              "4     skincare  SKU4   4.805496            26                      871   \n",
              "\n",
              "   Revenue generated Customer demographics  Stock levels  Lead times  \\\n",
              "0        8661.996792            Non-binary            58           7   \n",
              "1        7460.900065                Female            53          30   \n",
              "2        9577.749626               Unknown             1          10   \n",
              "3        7766.836426            Non-binary            23          13   \n",
              "4        2686.505152            Non-binary             5           3   \n",
              "\n",
              "   Order quantities  ...  Location Lead time  Production volumes  \\\n",
              "0                96  ...    Mumbai        29                 215   \n",
              "1                37  ...    Mumbai        23                 517   \n",
              "2                88  ...    Mumbai        12                 971   \n",
              "3                59  ...   Kolkata        24                 937   \n",
              "4                56  ...     Delhi         5                 414   \n",
              "\n",
              "  Manufacturing lead time Manufacturing costs  Inspection results  \\\n",
              "0                      29           46.279879             Pending   \n",
              "1                      30           33.616769             Pending   \n",
              "2                      27           30.688019             Pending   \n",
              "3                      18           35.624741                Fail   \n",
              "4                       3           92.065161                Fail   \n",
              "\n",
              "   Defect rates  Transportation modes   Routes       Costs  \n",
              "0      0.226410                  Road  Route B  187.752075  \n",
              "1      4.854068                  Road  Route B  503.065579  \n",
              "2      4.580593                   Air  Route C  141.920282  \n",
              "3      4.746649                  Rail  Route A  254.776159  \n",
              "4      3.145580                   Air  Route A  923.440632  \n",
              "\n",
              "[5 rows x 24 columns]"
            ],
            "text/html": [
              "\n",
              "  <div id=\"df-ce0c3426-a342-4b18-a7ae-d1bba9b1425d\" class=\"colab-df-container\">\n",
              "    <div>\n",
              "<style scoped>\n",
              "    .dataframe tbody tr th:only-of-type {\n",
              "        vertical-align: middle;\n",
              "    }\n",
              "\n",
              "    .dataframe tbody tr th {\n",
              "        vertical-align: top;\n",
              "    }\n",
              "\n",
              "    .dataframe thead th {\n",
              "        text-align: right;\n",
              "    }\n",
              "</style>\n",
              "<table border=\"1\" class=\"dataframe\">\n",
              "  <thead>\n",
              "    <tr style=\"text-align: right;\">\n",
              "      <th></th>\n",
              "      <th>Product type</th>\n",
              "      <th>SKU</th>\n",
              "      <th>Price</th>\n",
              "      <th>Availability</th>\n",
              "      <th>Number of products sold</th>\n",
              "      <th>Revenue generated</th>\n",
              "      <th>Customer demographics</th>\n",
              "      <th>Stock levels</th>\n",
              "      <th>Lead times</th>\n",
              "      <th>Order quantities</th>\n",
              "      <th>...</th>\n",
              "      <th>Location</th>\n",
              "      <th>Lead time</th>\n",
              "      <th>Production volumes</th>\n",
              "      <th>Manufacturing lead time</th>\n",
              "      <th>Manufacturing costs</th>\n",
              "      <th>Inspection results</th>\n",
              "      <th>Defect rates</th>\n",
              "      <th>Transportation modes</th>\n",
              "      <th>Routes</th>\n",
              "      <th>Costs</th>\n",
              "    </tr>\n",
              "  </thead>\n",
              "  <tbody>\n",
              "    <tr>\n",
              "      <th>0</th>\n",
              "      <td>haircare</td>\n",
              "      <td>SKU0</td>\n",
              "      <td>69.808006</td>\n",
              "      <td>55</td>\n",
              "      <td>802</td>\n",
              "      <td>8661.996792</td>\n",
              "      <td>Non-binary</td>\n",
              "      <td>58</td>\n",
              "      <td>7</td>\n",
              "      <td>96</td>\n",
              "      <td>...</td>\n",
              "      <td>Mumbai</td>\n",
              "      <td>29</td>\n",
              "      <td>215</td>\n",
              "      <td>29</td>\n",
              "      <td>46.279879</td>\n",
              "      <td>Pending</td>\n",
              "      <td>0.226410</td>\n",
              "      <td>Road</td>\n",
              "      <td>Route B</td>\n",
              "      <td>187.752075</td>\n",
              "    </tr>\n",
              "    <tr>\n",
              "      <th>1</th>\n",
              "      <td>skincare</td>\n",
              "      <td>SKU1</td>\n",
              "      <td>14.843523</td>\n",
              "      <td>95</td>\n",
              "      <td>736</td>\n",
              "      <td>7460.900065</td>\n",
              "      <td>Female</td>\n",
              "      <td>53</td>\n",
              "      <td>30</td>\n",
              "      <td>37</td>\n",
              "      <td>...</td>\n",
              "      <td>Mumbai</td>\n",
              "      <td>23</td>\n",
              "      <td>517</td>\n",
              "      <td>30</td>\n",
              "      <td>33.616769</td>\n",
              "      <td>Pending</td>\n",
              "      <td>4.854068</td>\n",
              "      <td>Road</td>\n",
              "      <td>Route B</td>\n",
              "      <td>503.065579</td>\n",
              "    </tr>\n",
              "    <tr>\n",
              "      <th>2</th>\n",
              "      <td>haircare</td>\n",
              "      <td>SKU2</td>\n",
              "      <td>11.319683</td>\n",
              "      <td>34</td>\n",
              "      <td>8</td>\n",
              "      <td>9577.749626</td>\n",
              "      <td>Unknown</td>\n",
              "      <td>1</td>\n",
              "      <td>10</td>\n",
              "      <td>88</td>\n",
              "      <td>...</td>\n",
              "      <td>Mumbai</td>\n",
              "      <td>12</td>\n",
              "      <td>971</td>\n",
              "      <td>27</td>\n",
              "      <td>30.688019</td>\n",
              "      <td>Pending</td>\n",
              "      <td>4.580593</td>\n",
              "      <td>Air</td>\n",
              "      <td>Route C</td>\n",
              "      <td>141.920282</td>\n",
              "    </tr>\n",
              "    <tr>\n",
              "      <th>3</th>\n",
              "      <td>skincare</td>\n",
              "      <td>SKU3</td>\n",
              "      <td>61.163343</td>\n",
              "      <td>68</td>\n",
              "      <td>83</td>\n",
              "      <td>7766.836426</td>\n",
              "      <td>Non-binary</td>\n",
              "      <td>23</td>\n",
              "      <td>13</td>\n",
              "      <td>59</td>\n",
              "      <td>...</td>\n",
              "      <td>Kolkata</td>\n",
              "      <td>24</td>\n",
              "      <td>937</td>\n",
              "      <td>18</td>\n",
              "      <td>35.624741</td>\n",
              "      <td>Fail</td>\n",
              "      <td>4.746649</td>\n",
              "      <td>Rail</td>\n",
              "      <td>Route A</td>\n",
              "      <td>254.776159</td>\n",
              "    </tr>\n",
              "    <tr>\n",
              "      <th>4</th>\n",
              "      <td>skincare</td>\n",
              "      <td>SKU4</td>\n",
              "      <td>4.805496</td>\n",
              "      <td>26</td>\n",
              "      <td>871</td>\n",
              "      <td>2686.505152</td>\n",
              "      <td>Non-binary</td>\n",
              "      <td>5</td>\n",
              "      <td>3</td>\n",
              "      <td>56</td>\n",
              "      <td>...</td>\n",
              "      <td>Delhi</td>\n",
              "      <td>5</td>\n",
              "      <td>414</td>\n",
              "      <td>3</td>\n",
              "      <td>92.065161</td>\n",
              "      <td>Fail</td>\n",
              "      <td>3.145580</td>\n",
              "      <td>Air</td>\n",
              "      <td>Route A</td>\n",
              "      <td>923.440632</td>\n",
              "    </tr>\n",
              "  </tbody>\n",
              "</table>\n",
              "<p>5 rows × 24 columns</p>\n",
              "</div>\n",
              "    <div class=\"colab-df-buttons\">\n",
              "\n",
              "  <div class=\"colab-df-container\">\n",
              "    <button class=\"colab-df-convert\" onclick=\"convertToInteractive('df-ce0c3426-a342-4b18-a7ae-d1bba9b1425d')\"\n",
              "            title=\"Convert this dataframe to an interactive table.\"\n",
              "            style=\"display:none;\">\n",
              "\n",
              "  <svg xmlns=\"http://www.w3.org/2000/svg\" height=\"24px\" viewBox=\"0 -960 960 960\">\n",
              "    <path d=\"M120-120v-720h720v720H120Zm60-500h600v-160H180v160Zm220 220h160v-160H400v160Zm0 220h160v-160H400v160ZM180-400h160v-160H180v160Zm440 0h160v-160H620v160ZM180-180h160v-160H180v160Zm440 0h160v-160H620v160Z\"/>\n",
              "  </svg>\n",
              "    </button>\n",
              "\n",
              "  <style>\n",
              "    .colab-df-container {\n",
              "      display:flex;\n",
              "      gap: 12px;\n",
              "    }\n",
              "\n",
              "    .colab-df-convert {\n",
              "      background-color: #E8F0FE;\n",
              "      border: none;\n",
              "      border-radius: 50%;\n",
              "      cursor: pointer;\n",
              "      display: none;\n",
              "      fill: #1967D2;\n",
              "      height: 32px;\n",
              "      padding: 0 0 0 0;\n",
              "      width: 32px;\n",
              "    }\n",
              "\n",
              "    .colab-df-convert:hover {\n",
              "      background-color: #E2EBFA;\n",
              "      box-shadow: 0px 1px 2px rgba(60, 64, 67, 0.3), 0px 1px 3px 1px rgba(60, 64, 67, 0.15);\n",
              "      fill: #174EA6;\n",
              "    }\n",
              "\n",
              "    .colab-df-buttons div {\n",
              "      margin-bottom: 4px;\n",
              "    }\n",
              "\n",
              "    [theme=dark] .colab-df-convert {\n",
              "      background-color: #3B4455;\n",
              "      fill: #D2E3FC;\n",
              "    }\n",
              "\n",
              "    [theme=dark] .colab-df-convert:hover {\n",
              "      background-color: #434B5C;\n",
              "      box-shadow: 0px 1px 3px 1px rgba(0, 0, 0, 0.15);\n",
              "      filter: drop-shadow(0px 1px 2px rgba(0, 0, 0, 0.3));\n",
              "      fill: #FFFFFF;\n",
              "    }\n",
              "  </style>\n",
              "\n",
              "    <script>\n",
              "      const buttonEl =\n",
              "        document.querySelector('#df-ce0c3426-a342-4b18-a7ae-d1bba9b1425d button.colab-df-convert');\n",
              "      buttonEl.style.display =\n",
              "        google.colab.kernel.accessAllowed ? 'block' : 'none';\n",
              "\n",
              "      async function convertToInteractive(key) {\n",
              "        const element = document.querySelector('#df-ce0c3426-a342-4b18-a7ae-d1bba9b1425d');\n",
              "        const dataTable =\n",
              "          await google.colab.kernel.invokeFunction('convertToInteractive',\n",
              "                                                    [key], {});\n",
              "        if (!dataTable) return;\n",
              "\n",
              "        const docLinkHtml = 'Like what you see? Visit the ' +\n",
              "          '<a target=\"_blank\" href=https://colab.research.google.com/notebooks/data_table.ipynb>data table notebook</a>'\n",
              "          + ' to learn more about interactive tables.';\n",
              "        element.innerHTML = '';\n",
              "        dataTable['output_type'] = 'display_data';\n",
              "        await google.colab.output.renderOutput(dataTable, element);\n",
              "        const docLink = document.createElement('div');\n",
              "        docLink.innerHTML = docLinkHtml;\n",
              "        element.appendChild(docLink);\n",
              "      }\n",
              "    </script>\n",
              "  </div>\n",
              "\n",
              "\n",
              "    <div id=\"df-cddb0fb2-dbbf-45d7-91a3-c841d15c1344\">\n",
              "      <button class=\"colab-df-quickchart\" onclick=\"quickchart('df-cddb0fb2-dbbf-45d7-91a3-c841d15c1344')\"\n",
              "                title=\"Suggest charts\"\n",
              "                style=\"display:none;\">\n",
              "\n",
              "<svg xmlns=\"http://www.w3.org/2000/svg\" height=\"24px\"viewBox=\"0 0 24 24\"\n",
              "     width=\"24px\">\n",
              "    <g>\n",
              "        <path d=\"M19 3H5c-1.1 0-2 .9-2 2v14c0 1.1.9 2 2 2h14c1.1 0 2-.9 2-2V5c0-1.1-.9-2-2-2zM9 17H7v-7h2v7zm4 0h-2V7h2v10zm4 0h-2v-4h2v4z\"/>\n",
              "    </g>\n",
              "</svg>\n",
              "      </button>\n",
              "\n",
              "<style>\n",
              "  .colab-df-quickchart {\n",
              "      --bg-color: #E8F0FE;\n",
              "      --fill-color: #1967D2;\n",
              "      --hover-bg-color: #E2EBFA;\n",
              "      --hover-fill-color: #174EA6;\n",
              "      --disabled-fill-color: #AAA;\n",
              "      --disabled-bg-color: #DDD;\n",
              "  }\n",
              "\n",
              "  [theme=dark] .colab-df-quickchart {\n",
              "      --bg-color: #3B4455;\n",
              "      --fill-color: #D2E3FC;\n",
              "      --hover-bg-color: #434B5C;\n",
              "      --hover-fill-color: #FFFFFF;\n",
              "      --disabled-bg-color: #3B4455;\n",
              "      --disabled-fill-color: #666;\n",
              "  }\n",
              "\n",
              "  .colab-df-quickchart {\n",
              "    background-color: var(--bg-color);\n",
              "    border: none;\n",
              "    border-radius: 50%;\n",
              "    cursor: pointer;\n",
              "    display: none;\n",
              "    fill: var(--fill-color);\n",
              "    height: 32px;\n",
              "    padding: 0;\n",
              "    width: 32px;\n",
              "  }\n",
              "\n",
              "  .colab-df-quickchart:hover {\n",
              "    background-color: var(--hover-bg-color);\n",
              "    box-shadow: 0 1px 2px rgba(60, 64, 67, 0.3), 0 1px 3px 1px rgba(60, 64, 67, 0.15);\n",
              "    fill: var(--button-hover-fill-color);\n",
              "  }\n",
              "\n",
              "  .colab-df-quickchart-complete:disabled,\n",
              "  .colab-df-quickchart-complete:disabled:hover {\n",
              "    background-color: var(--disabled-bg-color);\n",
              "    fill: var(--disabled-fill-color);\n",
              "    box-shadow: none;\n",
              "  }\n",
              "\n",
              "  .colab-df-spinner {\n",
              "    border: 2px solid var(--fill-color);\n",
              "    border-color: transparent;\n",
              "    border-bottom-color: var(--fill-color);\n",
              "    animation:\n",
              "      spin 1s steps(1) infinite;\n",
              "  }\n",
              "\n",
              "  @keyframes spin {\n",
              "    0% {\n",
              "      border-color: transparent;\n",
              "      border-bottom-color: var(--fill-color);\n",
              "      border-left-color: var(--fill-color);\n",
              "    }\n",
              "    20% {\n",
              "      border-color: transparent;\n",
              "      border-left-color: var(--fill-color);\n",
              "      border-top-color: var(--fill-color);\n",
              "    }\n",
              "    30% {\n",
              "      border-color: transparent;\n",
              "      border-left-color: var(--fill-color);\n",
              "      border-top-color: var(--fill-color);\n",
              "      border-right-color: var(--fill-color);\n",
              "    }\n",
              "    40% {\n",
              "      border-color: transparent;\n",
              "      border-right-color: var(--fill-color);\n",
              "      border-top-color: var(--fill-color);\n",
              "    }\n",
              "    60% {\n",
              "      border-color: transparent;\n",
              "      border-right-color: var(--fill-color);\n",
              "    }\n",
              "    80% {\n",
              "      border-color: transparent;\n",
              "      border-right-color: var(--fill-color);\n",
              "      border-bottom-color: var(--fill-color);\n",
              "    }\n",
              "    90% {\n",
              "      border-color: transparent;\n",
              "      border-bottom-color: var(--fill-color);\n",
              "    }\n",
              "  }\n",
              "</style>\n",
              "\n",
              "      <script>\n",
              "        async function quickchart(key) {\n",
              "          const quickchartButtonEl =\n",
              "            document.querySelector('#' + key + ' button');\n",
              "          quickchartButtonEl.disabled = true;  // To prevent multiple clicks.\n",
              "          quickchartButtonEl.classList.add('colab-df-spinner');\n",
              "          try {\n",
              "            const charts = await google.colab.kernel.invokeFunction(\n",
              "                'suggestCharts', [key], {});\n",
              "          } catch (error) {\n",
              "            console.error('Error during call to suggestCharts:', error);\n",
              "          }\n",
              "          quickchartButtonEl.classList.remove('colab-df-spinner');\n",
              "          quickchartButtonEl.classList.add('colab-df-quickchart-complete');\n",
              "        }\n",
              "        (() => {\n",
              "          let quickchartButtonEl =\n",
              "            document.querySelector('#df-cddb0fb2-dbbf-45d7-91a3-c841d15c1344 button');\n",
              "          quickchartButtonEl.style.display =\n",
              "            google.colab.kernel.accessAllowed ? 'block' : 'none';\n",
              "        })();\n",
              "      </script>\n",
              "    </div>\n",
              "\n",
              "    </div>\n",
              "  </div>\n"
            ],
            "application/vnd.google.colaboratory.intrinsic+json": {
              "type": "dataframe",
              "variable_name": "df"
            }
          },
          "metadata": {},
          "execution_count": 2
        }
      ]
    },
    {
      "cell_type": "code",
      "source": [
        "df.info()"
      ],
      "metadata": {
        "colab": {
          "base_uri": "https://localhost:8080/"
        },
        "id": "opn131TzP9mH",
        "outputId": "1bfc4841-6e4b-4fad-cd8b-9850b65ba94e"
      },
      "id": "opn131TzP9mH",
      "execution_count": 3,
      "outputs": [
        {
          "output_type": "stream",
          "name": "stdout",
          "text": [
            "<class 'pandas.core.frame.DataFrame'>\n",
            "RangeIndex: 100 entries, 0 to 99\n",
            "Data columns (total 24 columns):\n",
            " #   Column                   Non-Null Count  Dtype  \n",
            "---  ------                   --------------  -----  \n",
            " 0   Product type             100 non-null    object \n",
            " 1   SKU                      100 non-null    object \n",
            " 2   Price                    100 non-null    float64\n",
            " 3   Availability             100 non-null    int64  \n",
            " 4   Number of products sold  100 non-null    int64  \n",
            " 5   Revenue generated        100 non-null    float64\n",
            " 6   Customer demographics    100 non-null    object \n",
            " 7   Stock levels             100 non-null    int64  \n",
            " 8   Lead times               100 non-null    int64  \n",
            " 9   Order quantities         100 non-null    int64  \n",
            " 10  Shipping times           100 non-null    int64  \n",
            " 11  Shipping carriers        100 non-null    object \n",
            " 12  Shipping costs           100 non-null    float64\n",
            " 13  Supplier name            100 non-null    object \n",
            " 14  Location                 100 non-null    object \n",
            " 15  Lead time                100 non-null    int64  \n",
            " 16  Production volumes       100 non-null    int64  \n",
            " 17  Manufacturing lead time  100 non-null    int64  \n",
            " 18  Manufacturing costs      100 non-null    float64\n",
            " 19  Inspection results       100 non-null    object \n",
            " 20  Defect rates             100 non-null    float64\n",
            " 21  Transportation modes     100 non-null    object \n",
            " 22  Routes                   100 non-null    object \n",
            " 23  Costs                    100 non-null    float64\n",
            "dtypes: float64(6), int64(9), object(9)\n",
            "memory usage: 18.9+ KB\n"
          ]
        }
      ]
    },
    {
      "cell_type": "markdown",
      "source": [
        "# Data Exploration and Validation"
      ],
      "metadata": {
        "id": "3YCE9GCbSWKT"
      },
      "id": "3YCE9GCbSWKT"
    },
    {
      "cell_type": "code",
      "source": [
        "# Check for missing values and data integrity\n",
        "missing_values = df.isnull().sum()\n",
        "if missing_values.sum() > 0:\n",
        "    print(\"Warning: Missing values detected:\")\n",
        "    print(missing_values[missing_values > 0])\n",
        "else:\n",
        "    print(\"No missing values in the dataset.\")\n"
      ],
      "metadata": {
        "colab": {
          "base_uri": "https://localhost:8080/"
        },
        "id": "FGbJ4BjsQSoq",
        "outputId": "347a7900-ded9-46b1-c74f-4aa234f1b558"
      },
      "id": "FGbJ4BjsQSoq",
      "execution_count": 4,
      "outputs": [
        {
          "output_type": "stream",
          "name": "stdout",
          "text": [
            "No missing values in the dataset.\n"
          ]
        }
      ]
    },
    {
      "cell_type": "code",
      "source": [
        "# Summary statistics for key columns used in optimization\n",
        "key_columns = ['Price', 'Number of products sold', 'Stock levels', 'Manufacturing lead time', 'Manufacturing costs', 'Shipping costs']\n",
        "print(\"\\nSummary statistics for key columns:\")\n",
        "print(df[key_columns].describe().T)"
      ],
      "metadata": {
        "colab": {
          "base_uri": "https://localhost:8080/"
        },
        "id": "oLK6M5v4SbB0",
        "outputId": "c6da258f-565b-4373-c2f5-91997779a47e"
      },
      "id": "oLK6M5v4SbB0",
      "execution_count": 5,
      "outputs": [
        {
          "output_type": "stream",
          "name": "stdout",
          "text": [
            "\n",
            "Summary statistics for key columns:\n",
            "                         count        mean         std       min         25%  \\\n",
            "Price                    100.0   49.462461   31.168193  1.699976   19.597823   \n",
            "Number of products sold  100.0  460.990000  303.780074  8.000000  184.250000   \n",
            "Stock levels             100.0   47.770000   31.369372  0.000000   16.750000   \n",
            "Manufacturing lead time  100.0   14.770000    8.912430  1.000000    7.000000   \n",
            "Manufacturing costs      100.0   47.266693   28.982841  1.085069   22.983299   \n",
            "Shipping costs           100.0    5.548149    2.651376  1.013487    3.540248   \n",
            "\n",
            "                                50%         75%         max  \n",
            "Price                     51.239831   77.198228   99.171329  \n",
            "Number of products sold  392.500000  704.250000  996.000000  \n",
            "Stock levels              47.500000   73.000000  100.000000  \n",
            "Manufacturing lead time   14.000000   23.000000   30.000000  \n",
            "Manufacturing costs       45.905622   68.621026   99.466109  \n",
            "Shipping costs             5.320534    7.601695    9.929816  \n"
          ]
        }
      ]
    },
    {
      "cell_type": "code",
      "source": [
        "# Feasibility checks for constraints\n",
        "total_demand = df['Number of products sold'].sum()\n",
        "total_stock = df['Stock levels'].sum()\n",
        "total_lead_time_capacity = 10000  # Assumed total available manufacturing time (e.g., in hours or days; adjust based on business context)\n",
        "total_lead_time_required_min = (df['Number of products sold'] * df['Manufacturing lead time']).sum()  # Minimum time if producing exactly demand\n",
        "total_lead_time_required_max = (df['Stock levels'] * df['Manufacturing lead time']).sum()  # Maximum possible time\n",
        "print(f\"\\nFeasibility Overview:\")\n",
        "print(f\"- Total Demand: {total_demand} units\")\n",
        "print(f\"- Total Stock Capacity: {total_stock} units\")\n",
        "print(f\"- Total Lead Time Capacity: {total_lead_time_capacity} units\")\n",
        "print(f\"- Minimum Lead Time Required (at demand): {total_lead_time_required_min} units\")\n",
        "print(f\"- Maximum Lead Time Required (at stock limit): {total_lead_time_required_max} units\")\n",
        "if total_demand > total_stock:\n",
        "    print(\"Warning: Total demand exceeds total stock levels. Model may be infeasible.\")\n",
        "if total_lead_time_required_min > total_lead_time_capacity:\n",
        "    print(\"Warning: Minimum lead time required exceeds capacity. Consider increasing capacity or relaxing constraints.\")\n"
      ],
      "metadata": {
        "colab": {
          "base_uri": "https://localhost:8080/"
        },
        "id": "2sH93PlFSqYt",
        "outputId": "6b745c63-2333-48cf-b729-8e3e7f725c23"
      },
      "id": "2sH93PlFSqYt",
      "execution_count": 6,
      "outputs": [
        {
          "output_type": "stream",
          "name": "stdout",
          "text": [
            "\n",
            "Feasibility Overview:\n",
            "- Total Demand: 46099 units\n",
            "- Total Stock Capacity: 4777 units\n",
            "- Total Lead Time Capacity: 10000 units\n",
            "- Minimum Lead Time Required (at demand): 667765 units\n",
            "- Maximum Lead Time Required (at stock limit): 69156 units\n",
            "Warning: Total demand exceeds total stock levels. Model may be infeasible.\n",
            "Warning: Minimum lead time required exceeds capacity. Consider increasing capacity or relaxing constraints.\n"
          ]
        }
      ]
    },
    {
      "cell_type": "code",
      "source": [
        "# Visualizations: Histograms for key distributions\n",
        "fig, axes = plt.subplots(2, 3, figsize=(15, 10))\n",
        "for i, col in enumerate(key_columns):\n",
        "    ax = axes[i // 3, i % 3]\n",
        "    df[col].hist(ax=ax, bins=20, edgecolor='black')\n",
        "    ax.set_title(f'{col} Distribution')\n",
        "    ax.set_xlabel(col)\n",
        "    ax.set_ylabel('Frequency')\n",
        "plt.tight_layout()\n",
        "plt.show()"
      ],
      "metadata": {
        "colab": {
          "base_uri": "https://localhost:8080/",
          "height": 1000
        },
        "id": "MxQJSoKjT01c",
        "outputId": "2e603f5c-f141-4053-9bb6-cfd2fc888915"
      },
      "id": "MxQJSoKjT01c",
      "execution_count": 7,
      "outputs": [
        {
          "output_type": "display_data",
          "data": {
            "text/plain": [
              "<Figure size 1500x1000 with 6 Axes>"
            ],
            "image/png": "[encoded data removed]"
          },
          "metadata": {}
        }
      ]
    },
    {
      "cell_type": "code",
      "source": [
        "# Profit margin per product (for insight)\n",
        "df['Profit_Margin'] = df['Price'] - df['Manufacturing costs'] - df['Shipping costs']\n",
        "print(f\"\\nAverage Profit Margin: ${df['Profit_Margin'].mean():.2f} (Range: ${df['Profit_Margin'].min():.2f} to ${df['Profit_Margin'].max():.2f})\")\n"
      ],
      "metadata": {
        "colab": {
          "base_uri": "https://localhost:8080/"
        },
        "id": "QEmtdpEgUBsZ",
        "outputId": "e2125509-9a07-4e0a-daf5-10d1a68d1864"
      },
      "id": "QEmtdpEgUBsZ",
      "execution_count": 8,
      "outputs": [
        {
          "output_type": "stream",
          "name": "stdout",
          "text": [
            "\n",
            "Average Profit Margin: $-3.35 (Range: $-97.21 to $91.34)\n"
          ]
        }
      ]
    },
    {
      "cell_type": "markdown",
      "source": [
        "# Optimization Model Formulation"
      ],
      "metadata": {
        "id": "LihK4RsnUO-A"
      },
      "id": "LihK4RsnUO-A"
    },
    {
      "cell_type": "code",
      "source": [
        "# Define the LP problem: Maximize profit\n",
        "import pulp\n",
        "profit_maximization_problem = pulp.LpProblem(\"Supply_Chain_Profit_Maximization\", pulp.LpMaximize)\n",
        "# Decision variables: Production volume for each product (integer, >= 0)\n",
        "product_indices = df.index.tolist()\n",
        "production_volume_vars = pulp.LpVariable.dicts(\n",
        "    \"Production_Volume\",\n",
        "    product_indices,\n",
        "    lowBound=0,\n",
        "    cat='Integer'\n",
        ")"
      ],
      "metadata": {
        "id": "-KhRMvW1UHqw"
      },
      "id": "-KhRMvW1UHqw",
      "execution_count": 10,
      "outputs": []
    },
    {
      "cell_type": "markdown",
      "source": [
        "# Objective function: Maximize total profit"
      ],
      "metadata": {
        "id": "W8uaOUWbUy1d"
      },
      "id": "W8uaOUWbUy1d"
    },
    {
      "cell_type": "code",
      "source": [
        "# Profit = Sum over products: (Price - Manufacturing Cost - Shipping Cost) * Production Volume\n",
        "profit_maximization_problem += pulp.lpSum([\n",
        "    (df.loc[i, 'Price'] - df.loc[i, 'Manufacturing costs'] - df.loc[i, 'Shipping costs']) * production_volume_vars[i]\n",
        "    for i in product_indices\n",
        "])"
      ],
      "metadata": {
        "id": "BAIwHq-AUT98"
      },
      "id": "BAIwHq-AUT98",
      "execution_count": 11,
      "outputs": []
    },
    {
      "cell_type": "markdown",
      "source": [
        "# Constraints"
      ],
      "metadata": {
        "id": "thv1ERvVU52J"
      },
      "id": "thv1ERvVU52J"
    },
    {
      "cell_type": "code",
      "source": [
        "# 1. Production >= Demand (to meet sales requirements)\n",
        "for i in product_indices:\n",
        "    profit_maximization_problem += (\n",
        "        production_volume_vars[i] >= df.loc[i, 'Number of products sold'],\n",
        "        f\"Demand_Constraint_Product_{i}\"\n",
        "    )"
      ],
      "metadata": {
        "id": "NoXDVIk7U18j"
      },
      "id": "NoXDVIk7U18j",
      "execution_count": 12,
      "outputs": []
    },
    {
      "cell_type": "code",
      "source": [
        "# 2. Production <= Stock levels (inventory limits)\n",
        "for i in product_indices:\n",
        "    profit_maximization_problem += (\n",
        "        production_volume_vars[i] <= df.loc[i, 'Stock levels'],\n",
        "        f\"Stock_Constraint_Product_{i}\"\n",
        "    )"
      ],
      "metadata": {
        "id": "FGooTajWU8f4"
      },
      "id": "FGooTajWU8f4",
      "execution_count": 13,
      "outputs": []
    },
    {
      "cell_type": "code",
      "source": [
        "# 3. Total manufacturing lead time <= Capacity\n",
        "profit_maximization_problem += (\n",
        "    pulp.lpSum([df.loc[i, 'Manufacturing lead time'] * production_volume_vars[i] for i in product_indices]) <= total_lead_time_capacity,\n",
        "    \"Total_Lead_Time_Constraint\"\n",
        ")"
      ],
      "metadata": {
        "id": "Oubg5phiVAJ5"
      },
      "id": "Oubg5phiVAJ5",
      "execution_count": 14,
      "outputs": []
    },
    {
      "cell_type": "code",
      "source": [
        "# Solve the LP problem\n",
        "solution_status = profit_maximization_problem.solve()\n"
      ],
      "metadata": {
        "id": "24r_4QoDVCCJ"
      },
      "id": "24r_4QoDVCCJ",
      "execution_count": 15,
      "outputs": []
    },
    {
      "cell_type": "code",
      "source": [
        "# Check and report solver status\n",
        "print(f\"Solver Status: {pulp.LpStatus[solution_status]}\")\n",
        "if pulp.LpStatus[solution_status] == 'Optimal':\n",
        "    print(\"Optimal solution found. Proceeding to results.\")\n",
        "elif pulp.LpStatus[solution_status] == 'Infeasible':\n",
        "    print(\"Model is infeasible. Suggestions: Increase lead time capacity, relax stock constraints, or reduce demand requirements.\")\n",
        "else:\n",
        "    print(\"Solver did not find an optimal solution. Check model formulation or data.\")\n"
      ],
      "metadata": {
        "colab": {
          "base_uri": "https://localhost:8080/"
        },
        "id": "YVDpndZ7VEmm",
        "outputId": "8d0f8268-f008-4ea7-d8b4-b39f5de7b252"
      },
      "id": "YVDpndZ7VEmm",
      "execution_count": 16,
      "outputs": [
        {
          "output_type": "stream",
          "name": "stdout",
          "text": [
            "Solver Status: Infeasible\n",
            "Model is infeasible. Suggestions: Increase lead time capacity, relax stock constraints, or reduce demand requirements.\n"
          ]
        }
      ]
    },
    {
      "cell_type": "markdown",
      "source": [
        "# Results Extraction and Analysis"
      ],
      "metadata": {
        "id": "JYw3tM_OVS-U"
      },
      "id": "JYw3tM_OVS-U"
    },
    {
      "cell_type": "code",
      "source": [
        "# Extract optimal production volumes\n",
        "if pulp.LpStatus[solution_status] == 'Optimal':\n",
        "    optimal_production_volumes = {i: production_volume_vars[i].varValue for i in product_indices}\n",
        "    df['Optimal_Production_Volume'] = df.index.map(optimal_production_volumes)\n",
        "\n",
        "    # Calculate aggregate metrics\n",
        "    total_profit = pulp.value(profit_maximization_problem.objective)\n",
        "    total_revenue = sum(df.loc[i, 'Price'] * optimal_production_volumes[i] for i in product_indices)\n",
        "    total_manufacturing_cost = sum(df.loc[i, 'Manufacturing costs'] * optimal_production_volumes[i] for i in product_indices)\n",
        "    total_shipping_cost = sum(df.loc[i, 'Shipping costs'] * optimal_production_volumes[i] for i in product_indices)\n",
        "    total_lead_time_used = sum(df.loc[i, 'Manufacturing lead time'] * optimal_production_volumes[i] for i in product_indices)\n",
        "\n",
        "    # Constraint slack analysis\n",
        "    lead_time_slack = total_lead_time_capacity - total_lead_time_used\n",
        "    stock_utilization = (df['Optimal_Production_Volume'].sum() / total_stock) * 100\n",
        "\n",
        "    print(\"Optimization Results:\")\n",
        "    print(f\"- Total Profit: ${total_profit:,.2f}\")\n",
        "    print(f\"- Total Revenue: ${total_revenue:,.2f}\")\n",
        "    print(f\"- Total Manufacturing Cost: ${total_manufacturing_cost:,.2f} ({(total_manufacturing_cost / total_revenue) * 100:.1f}% of revenue)\")\n",
        "    print(f\"- Total Shipping Cost: ${total_shipping_cost:,.2f} ({(total_shipping_cost / total_revenue) * 100:.1f}% of revenue)\")\n",
        "    print(f\"- Total Lead Time Used: {total_lead_time_used:,.2f} / {total_lead_time_capacity} (Slack: {lead_time_slack:,.2f})\")\n",
        "    print(f\"- Stock Utilization: {stock_utilization:.1f}%\")\n",
        "\n",
        "    # Per-product profit contribution\n",
        "    df['Profit_Contribution'] = df['Profit_Margin'] * df['Optimal_Production_Volume']\n",
        "\n",
        "    # Visualizations\n",
        "    # 1. Optimal production vs. demand and stock (first 20 products for clarity)\n",
        "    fig, ax = plt.subplots(figsize=(12, 6))\n",
        "    indices = df.index[:20]\n",
        "    ax.bar(indices, df.loc[indices, 'Number of products sold'], label='Demand', alpha=0.7, color='blue')\n",
        "    ax.bar(indices, df.loc[indices, 'Optimal_Production_Volume'], label='Optimal Production', alpha=0.7, color='green')\n",
        "    ax.bar(indices, df.loc[indices, 'Stock levels'], label='Stock Levels', alpha=0.3, color='red')\n",
        "    ax.set_xlabel('Product Index (First 20)')\n",
        "    ax.set_ylabel('Volume')\n",
        "    ax.set_title('Demand, Optimal Production, and Stock Levels Comparison')\n",
        "    ax.legend()\n",
        "    plt.show()\n",
        "\n",
        "    # 2. Profit contribution distribution\n",
        "    fig, ax = plt.subplots(figsize=(10, 6))\n",
        "    df['Profit_Contribution'].hist(ax=ax, bins=20, edgecolor='black')\n",
        "    ax.set_title('Distribution of Profit Contributions')\n",
        "    ax.set_xlabel('Profit Contribution ($)')\n",
        "    ax.set_ylabel('Number of Products')\n",
        "    plt.show()\n",
        "\n",
        "    # Top 10 products by profit contribution\n",
        "    top_products = df.nlargest(10, 'Profit_Contribution')[['SKU', 'Product type', 'Profit_Contribution', 'Optimal_Production_Volume']]\n",
        "    print(\"\\nTop 10 Products by Profit Contribution:\")\n",
        "    print(top_products.to_string(index=False))\n",
        "\n",
        "else:\n",
        "    print(\"No optimal solution available. Skipping results analysis.\")\n"
      ],
      "metadata": {
        "colab": {
          "base_uri": "https://localhost:8080/"
        },
        "id": "HHMcf_e3VMlb",
        "outputId": "2d7f03ea-d95f-4f04-c682-2e539aa11e48"
      },
      "id": "HHMcf_e3VMlb",
      "execution_count": 17,
      "outputs": [
        {
          "output_type": "stream",
          "name": "stdout",
          "text": [
            "No optimal solution available. Skipping results analysis.\n"
          ]
        }
      ]
    },
    {
      "cell_type": "markdown",
      "source": [
        "# Business Insights and Recommendations"
      ],
      "metadata": {
        "id": "iw5fJe3-Vy-p"
      },
      "id": "iw5fJe3-Vy-p"
    },
    {
      "cell_type": "code",
      "source": [
        "if pulp.LpStatus[solution_status] == 'Optimal':\n",
        "    # Insights summary\n",
        "    average_defect_rate = df['Defect rates'].mean()\n",
        "    dominant_product_type = top_products['Product type'].mode()[0] if not top_products.empty else \"N/A\"\n",
        "\n",
        "    print(\"### Business Insights and Recommendations\")\n",
        "    print(f\"1. **Overall Performance**: The optimized plan achieves a total profit of ${total_profit:,.2f}, with {total_lead_time_used / total_lead_time_capacity * 100:.1f}% of lead time capacity utilized. Lead time is {'a major bottleneck' if lead_time_slack < 1000 else 'not a limiting factor'} (slack: {lead_time_slack:,.2f}).\")\n",
        "    print(f\"2. **Profit Breakdown**: Revenue is ${total_revenue:,.2f}, with manufacturing costs comprising {(total_manufacturing_cost / total_revenue) * 100:.1f}% and shipping costs {(total_shipping_cost / total_revenue) * 100:.1f}%. Focus on cost reduction in these areas.\")\n",
        "    print(f\"3. **Product Insights**: Top products are primarily '{dominant_product_type}' types, contributing significantly to profit. Average defect rate is {average_defect_rate:.2f}%, which could impact quality and costs.\")\n",
        "    print(f\"4. **Constraint Utilization**: Stock is {stock_utilization:.1f}% utilized, indicating {'potential overstocking' if stock_utilization < 50 else 'efficient use'}.\")\n",
        "\n",
        "    print(\"\\n### Recommendations:\")\n",
        "    print(\"- **Resource Allocation**: Prioritize production for high-profit products (e.g., \" + \", \".join(top_products['SKU'].head(3).tolist()) + \"). Reduce focus on low-margin items to free up lead time.\")\n",
        "    print(\"- **Cost Optimization**: Negotiate with suppliers for lower manufacturing costs or explore bulk shipping deals to cut shipping expenses. Analyze 'Routes' and 'Costs' for transportation efficiencies.\")\n",
        "    print(\"- **Inventory and Quality**: Monitor stock levels closely; consider just-in-time inventory if utilization is low. Address defect rates through improved inspections (e.g., target products with 'Fail' results).\")\n",
        "    print(\"- **Scalability and Next Steps**: Re-run the model quarterly with updated data. For advanced scenarios, incorporate additional constraints (e.g., budget limits) or use non-linear solvers. Consider integrating with ERP systems for real-time optimization.\")\n",
        "    print(\"- **Risks and Assumptions**: Model assumes linear costs and fixed capacity. If demand fluctuates, perform sensitivity analysis by varying capacity in the model.\")\n",
        "\n",
        "    print(\"\\nThis optimization provides a data-driven foundation for supply chain decisions, potentially increasing profitability by informed resource allocation.\")\n",
        "else:\n",
        "    print(\"Unable to provide insights due to infeasible or unsolved model. Review constraints and data.\")\n"
      ],
      "metadata": {
        "colab": {
          "base_uri": "https://localhost:8080/"
        },
        "id": "I9bgxeKNVaw0",
        "outputId": "44bc4c96-ad9a-4d4e-a354-e4c8bbdd49ff"
      },
      "id": "I9bgxeKNVaw0",
      "execution_count": 18,
      "outputs": [
        {
          "output_type": "stream",
          "name": "stdout",
          "text": [
            "Unable to provide insights due to infeasible or unsolved model. Review constraints and data.\n"
          ]
        }
      ]
    },
    {
      "cell_type": "code",
      "source": [],
      "metadata": {
        "id": "K2hRvwdKVdV_"
      },
      "id": "K2hRvwdKVdV_",
      "execution_count": 18,
      "outputs": []
    }
  ],
  "metadata": {
    "kernelspec": {
      "display_name": "Python [conda env:base] *",
      "language": "python",
      "name": "conda-base-py"
    },
    "language_info": {
      "codemirror_mode": {
        "name": "ipython",
        "version": 3
      },
      "file_extension": ".py",
      "mimetype": "text/x-python",
      "name": "python",
      "nbconvert_exporter": "python",
      "pygments_lexer": "ipython3",
      "version": "3.13.5"
    },
    "colab": {
      "provenance": []
    }
  },
  "nbformat": 4,
  "nbformat_minor": 5
}